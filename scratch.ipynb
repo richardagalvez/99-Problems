{
 "cells": [
  {
   "cell_type": "code",
   "execution_count": 1,
   "metadata": {},
   "outputs": [
    {
     "data": {
      "text/plain": [
       "[[['A', 'B'], ['A', 'C'], ['A', 'D']],\n",
       " [['B', 'A'], ['B', 'C'], ['B', 'D']],\n",
       " [['C', 'A'], ['C', 'B'], ['C', 'D']],\n",
       " [['D', 'A'], ['D', 'B'], ['D', 'C']]]"
      ]
     },
     "execution_count": 1,
     "metadata": {},
     "output_type": "execute_result"
    }
   ],
   "source": [
    "\"\"\"\n",
    "Problem:\n",
    "The first problem is to determine a schedule of pairings so that \n",
    "everyone has a pair every day, and everyone eventually pairs with \n",
    "everyone else.\n",
    "\n",
    "Write a function that takes a list of names and returns a list of \n",
    "lists of tuples representing pairs. (Assume an even number of names, \n",
    "all distinct.) For example:\n",
    "\n",
    "output:\n",
    ">>> pairs_for(['Andrea', 'Bob', 'Cassandra', 'Doug'])\n",
    "# [[('Bob', 'Cassandra'), ('Andrea', 'Doug')],\n",
    "#  [('Andrea', 'Bob'), ('Cassandra', 'Doug')],\n",
    "#  [('Andrea', 'Cassandra'), ('Bob', 'Doug')]]\n",
    "\"\"\"\n",
    "\n",
    "class Solution():\n",
    "    def __init__(self):\n",
    "        super(Solution, self).__init__()\n",
    "\n",
    "    def give_result(self, some_list):\n",
    "        return [[[x, y] for y in some_list if x!=y] for x in some_list]\n",
    "\n",
    "kernel = Solution()\n",
    "\n",
    "collection = ['A', 'B', 'C', 'D']\n",
    "kernel.give_result(collection)"
   ]
  },
  {
   "cell_type": "code",
   "execution_count": 179,
   "metadata": {},
   "outputs": [
    {
     "name": "stdout",
     "output_type": "stream",
     "text": [
      "0 0 0\n",
      "0 1 0\n",
      "1 0 0\n",
      "1 1 0\n",
      "2 0 0\n",
      "2 1 0\n"
     ]
    },
    {
     "data": {
      "text/plain": [
       "[None, None, None, None, None, None]"
      ]
     },
     "execution_count": 179,
     "metadata": {},
     "output_type": "execute_result"
    }
   ],
   "source": [
    "n=3\n",
    "[print(x[0],x[1],x[2]) for x in itertools.product(*[list(range(i)) for i in range(n,0,-1)])]"
   ]
  },
  {
   "cell_type": "code",
   "execution_count": 408,
   "metadata": {},
   "outputs": [
    {
     "data": {
      "text/plain": [
       "(['A', 'B'], [['A', 'C'], ['B', 'C'], ['A', 'D'], ['B', 'D'], ['C', 'D']])"
      ]
     },
     "execution_count": 408,
     "metadata": {},
     "output_type": "execute_result"
    }
   ],
   "source": [
    "unique_pairs[0], unique_pairs[-1:0]+unique_pairs[1:]"
   ]
  },
  {
   "cell_type": "code",
   "execution_count": 678,
   "metadata": {},
   "outputs": [
    {
     "data": {
      "text/plain": [
       "630.0"
      ]
     },
     "execution_count": 678,
     "metadata": {},
     "output_type": "execute_result"
    }
   ],
   "source": [
    "8*7*6*5*4*3*2/8**2"
   ]
  },
  {
   "cell_type": "code",
   "execution_count": 673,
   "metadata": {},
   "outputs": [
    {
     "data": {
      "text/plain": [
       "630"
      ]
     },
     "execution_count": 673,
     "metadata": {},
     "output_type": "execute_result"
    }
   ],
   "source": [
    "len(schedules)"
   ]
  },
  {
   "cell_type": "code",
   "execution_count": 681,
   "metadata": {},
   "outputs": [
    {
     "data": {
      "text/plain": [
       "[[['A', 'B'], ['C', 'D'], ['E', 'F']],\n",
       " [['A', 'B'], ['C', 'E'], ['D', 'F']],\n",
       " [['A', 'B'], ['D', 'E'], ['C', 'F']],\n",
       " [['A', 'B'], ['C', 'F'], ['D', 'E']],\n",
       " [['A', 'B'], ['D', 'F'], ['C', 'E']],\n",
       " [['A', 'B'], ['E', 'F'], ['C', 'D']],\n",
       " [['A', 'C'], ['B', 'D'], ['E', 'F']],\n",
       " [['A', 'C'], ['B', 'E'], ['D', 'F']],\n",
       " [['A', 'C'], ['D', 'E'], ['B', 'F']],\n",
       " [['A', 'C'], ['B', 'F'], ['D', 'E']],\n",
       " [['A', 'C'], ['D', 'F'], ['B', 'E']],\n",
       " [['A', 'C'], ['E', 'F'], ['B', 'D']],\n",
       " [['B', 'C'], ['A', 'D'], ['E', 'F']],\n",
       " [['B', 'C'], ['A', 'E'], ['D', 'F']],\n",
       " [['B', 'C'], ['D', 'E'], ['A', 'F']],\n",
       " [['B', 'C'], ['A', 'F'], ['D', 'E']],\n",
       " [['B', 'C'], ['D', 'F'], ['A', 'E']],\n",
       " [['B', 'C'], ['E', 'F'], ['A', 'D']],\n",
       " [['A', 'D'], ['B', 'C'], ['E', 'F']],\n",
       " [['A', 'D'], ['B', 'E'], ['C', 'F']],\n",
       " [['A', 'D'], ['C', 'E'], ['B', 'F']],\n",
       " [['A', 'D'], ['B', 'F'], ['C', 'E']],\n",
       " [['A', 'D'], ['C', 'F'], ['B', 'E']],\n",
       " [['A', 'D'], ['E', 'F'], ['B', 'C']],\n",
       " [['B', 'D'], ['A', 'C'], ['E', 'F']],\n",
       " [['B', 'D'], ['A', 'E'], ['C', 'F']],\n",
       " [['B', 'D'], ['C', 'E'], ['A', 'F']],\n",
       " [['B', 'D'], ['A', 'F'], ['C', 'E']],\n",
       " [['B', 'D'], ['C', 'F'], ['A', 'E']],\n",
       " [['B', 'D'], ['E', 'F'], ['A', 'C']]]"
      ]
     },
     "execution_count": 681,
     "metadata": {},
     "output_type": "execute_result"
    }
   ],
   "source": [
    "import itertools\n",
    "collection = ['A','B','C','D','E','F']\n",
    "\n",
    "def make_pairs(collection):\n",
    "    n=len(collection)//2\n",
    "    unique_pairs = [[x, y] for y in collection for x in collection if x!=y and y>x]\n",
    "    schedules = [list(x) for x in itertools.product(unique_pairs, repeat=n)\n",
    "                 if not set(collection) - set([item for sublist in x for item in sublist])]\n",
    "    \n",
    "    return schedules[:len(schedules)//n]\n",
    "\n",
    "make_pairs(collection)"
   ]
  },
  {
   "cell_type": "code",
   "execution_count": null,
   "metadata": {},
   "outputs": [],
   "source": []
  }
 ],
 "metadata": {
  "kernelspec": {
   "display_name": "Python 3",
   "language": "python",
   "name": "python3"
  },
  "language_info": {
   "codemirror_mode": {
    "name": "ipython",
    "version": 3
   },
   "file_extension": ".py",
   "mimetype": "text/x-python",
   "name": "python",
   "nbconvert_exporter": "python",
   "pygments_lexer": "ipython3",
   "version": "3.6.3"
  }
 },
 "nbformat": 4,
 "nbformat_minor": 2
}
