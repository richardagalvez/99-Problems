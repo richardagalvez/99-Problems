{
 "cells": [
  {
   "cell_type": "code",
   "execution_count": 30,
   "metadata": {},
   "outputs": [
    {
     "data": {
      "text/plain": [
       "[[['A', 'B'], ['A', 'C'], ['A', 'D']],\n",
       " [['B', 'A'], ['B', 'C'], ['B', 'D']],\n",
       " [['C', 'A'], ['C', 'B'], ['C', 'D']],\n",
       " [['D', 'A'], ['D', 'B'], ['D', 'C']]]"
      ]
     },
     "execution_count": 30,
     "metadata": {},
     "output_type": "execute_result"
    }
   ],
   "source": [
    "\"\"\"\n",
    "Problem:\n",
    "The first problem is to determine a schedule of pairings so that \n",
    "everyone has a pair every day, and everyone eventually pairs with \n",
    "everyone else.\n",
    "\n",
    "Write a function that takes a list of names and returns a list of \n",
    "lists of tuples representing pairs. (Assume an even number of names, \n",
    "all distinct.) For example:\n",
    "\n",
    "output:\n",
    ">>> pairs_for(['Andrea', 'Bob', 'Cassandra', 'Doug'])\n",
    "# [[('Bob', 'Cassandra'), ('Andrea', 'Doug')],\n",
    "#  [('Andrea', 'Bob'), ('Cassandra', 'Doug')],\n",
    "#  [('Andrea', 'Cassandra'), ('Bob', 'Doug')]]\n",
    "\"\"\"\n",
    "\n",
    "class Solution():\n",
    "    def __init__(self):\n",
    "        super(Solution, self).__init__()\n",
    "\n",
    "    def give_result(self, some_list):\n",
    "        return [[[x, y] for y in some_list if x!=y] for x in some_list]\n",
    "\n",
    "kernel = Solution()\n",
    "\n",
    "collection = ['A', 'B', 'C', 'D']\n",
    "kernel.give_result(collection)"
   ]
  },
  {
   "cell_type": "code",
   "execution_count": 156,
   "metadata": {},
   "outputs": [
    {
     "data": {
      "text/plain": [
       "[[0, 1, 2], [0, 1], [0]]"
      ]
     },
     "execution_count": 156,
     "metadata": {},
     "output_type": "execute_result"
    }
   ],
   "source": [
    "[list(range(i)) for i in range(n, 0,-1)]"
   ]
  },
  {
   "cell_type": "code",
   "execution_count": 179,
   "metadata": {},
   "outputs": [
    {
     "name": "stdout",
     "output_type": "stream",
     "text": [
      "0 0 0\n",
      "0 1 0\n",
      "1 0 0\n",
      "1 1 0\n",
      "2 0 0\n",
      "2 1 0\n"
     ]
    },
    {
     "data": {
      "text/plain": [
       "[None, None, None, None, None, None]"
      ]
     },
     "execution_count": 179,
     "metadata": {},
     "output_type": "execute_result"
    }
   ],
   "source": [
    "n=3\n",
    "[print(x[0],x[1],x[2]) for x in itertools.product(*[list(range(i)) for i in range(n,0,-1)])]"
   ]
  },
  {
   "cell_type": "code",
   "execution_count": 342,
   "metadata": {},
   "outputs": [
    {
     "name": "stdout",
     "output_type": "stream",
     "text": [
      "1\n"
     ]
    }
   ],
   "source": [
    "for k in range(1,2):\n",
    "    print(k)"
   ]
  },
  {
   "cell_type": "code",
   "execution_count": 403,
   "metadata": {},
   "outputs": [
    {
     "data": {
      "text/plain": [
       "[['A', 'B'], ['A', 'C'], ['B', 'C'], ['A', 'D'], ['B', 'D'], ['C', 'D']]"
      ]
     },
     "execution_count": 403,
     "metadata": {},
     "output_type": "execute_result"
    }
   ],
   "source": [
    "unique_pairs"
   ]
  },
  {
   "cell_type": "code",
   "execution_count": 408,
   "metadata": {},
   "outputs": [
    {
     "data": {
      "text/plain": [
       "(['A', 'B'], [['A', 'C'], ['B', 'C'], ['A', 'D'], ['B', 'D'], ['C', 'D']])"
      ]
     },
     "execution_count": 408,
     "metadata": {},
     "output_type": "execute_result"
    }
   ],
   "source": [
    "unique_pairs[0], unique_pairs[-1:0]+unique_pairs[1:]"
   ]
  },
  {
   "cell_type": "code",
   "execution_count": 542,
   "metadata": {},
   "outputs": [],
   "source": [
    "collection = ['A','B','C','D']"
   ]
  },
  {
   "cell_type": "code",
   "execution_count": 526,
   "metadata": {},
   "outputs": [],
   "source": [
    "def make_pairs(collection):\n",
    "    unique_pairs = [[x, y] for y in collection for x in collection if x!=y and y>x]\n",
    "    schedule = [list(x) for x in itertools.product(unique_pairs, repeat=len(collection)//2)\n",
    "                 if not any([any(i in x[k] for i in x[k-1:k] + x[k+1:]) for k in [0]])]\n",
    "    \n",
    "    return unique_pairs, schedule"
   ]
  },
  {
   "cell_type": "code",
   "execution_count": 559,
   "metadata": {},
   "outputs": [],
   "source": [
    "def make_pairs(collection):\n",
    "    unique_pairs = [[x, y] for y in collection for x in collection if x!=y and y>x]\n",
    "    schedule = [list(x) for x in itertools.product(unique_pairs, repeat=len(collection)//2)\n",
    "                 if not any([any(i in x[0] for i in x[1]) for k in range(0)])]\n",
    "    \n",
    "    return unique_pairs, schedule"
   ]
  },
  {
   "cell_type": "code",
   "execution_count": 560,
   "metadata": {},
   "outputs": [
    {
     "ename": "IndexError",
     "evalue": "list index out of range",
     "output_type": "error",
     "traceback": [
      "\u001b[0;31m---------------------------------------------------------------------------\u001b[0m",
      "\u001b[0;31mIndexError\u001b[0m                                Traceback (most recent call last)",
      "\u001b[0;32m<ipython-input-560-7bb45217642f>\u001b[0m in \u001b[0;36m<module>\u001b[0;34m()\u001b[0m\n\u001b[0;32m----> 1\u001b[0;31m \u001b[0munique_pairs\u001b[0m\u001b[0;34m,\u001b[0m \u001b[0mschedule\u001b[0m \u001b[0;34m=\u001b[0m \u001b[0mmake_pairs\u001b[0m\u001b[0;34m(\u001b[0m\u001b[0mcollection\u001b[0m\u001b[0;34m)\u001b[0m\u001b[0;34m\u001b[0m\u001b[0m\n\u001b[0m",
      "\u001b[0;32m<ipython-input-559-b9e9c2c488f5>\u001b[0m in \u001b[0;36mmake_pairs\u001b[0;34m(collection)\u001b[0m\n\u001b[1;32m      1\u001b[0m \u001b[0;32mdef\u001b[0m \u001b[0mmake_pairs\u001b[0m\u001b[0;34m(\u001b[0m\u001b[0mcollection\u001b[0m\u001b[0;34m)\u001b[0m\u001b[0;34m:\u001b[0m\u001b[0;34m\u001b[0m\u001b[0m\n\u001b[1;32m      2\u001b[0m     \u001b[0munique_pairs\u001b[0m \u001b[0;34m=\u001b[0m \u001b[0;34m[\u001b[0m\u001b[0;34m[\u001b[0m\u001b[0mx\u001b[0m\u001b[0;34m,\u001b[0m \u001b[0my\u001b[0m\u001b[0;34m]\u001b[0m \u001b[0;32mfor\u001b[0m \u001b[0my\u001b[0m \u001b[0;32min\u001b[0m \u001b[0mcollection\u001b[0m \u001b[0;32mfor\u001b[0m \u001b[0mx\u001b[0m \u001b[0;32min\u001b[0m \u001b[0mcollection\u001b[0m \u001b[0;32mif\u001b[0m \u001b[0mx\u001b[0m\u001b[0;34m!=\u001b[0m\u001b[0my\u001b[0m \u001b[0;32mand\u001b[0m \u001b[0my\u001b[0m\u001b[0;34m>\u001b[0m\u001b[0mx\u001b[0m\u001b[0;34m]\u001b[0m\u001b[0;34m\u001b[0m\u001b[0m\n\u001b[0;32m----> 3\u001b[0;31m     schedule = [list(x) for x in itertools.product(unique_pairs, repeat=len(collection)//2)\n\u001b[0m\u001b[1;32m      4\u001b[0m                  if not any([any(i in x[0] for i in x[1]) for k in range(0)][0])]\n\u001b[1;32m      5\u001b[0m \u001b[0;34m\u001b[0m\u001b[0m\n",
      "\u001b[0;32m<ipython-input-559-b9e9c2c488f5>\u001b[0m in \u001b[0;36m<listcomp>\u001b[0;34m(.0)\u001b[0m\n\u001b[1;32m      2\u001b[0m     \u001b[0munique_pairs\u001b[0m \u001b[0;34m=\u001b[0m \u001b[0;34m[\u001b[0m\u001b[0;34m[\u001b[0m\u001b[0mx\u001b[0m\u001b[0;34m,\u001b[0m \u001b[0my\u001b[0m\u001b[0;34m]\u001b[0m \u001b[0;32mfor\u001b[0m \u001b[0my\u001b[0m \u001b[0;32min\u001b[0m \u001b[0mcollection\u001b[0m \u001b[0;32mfor\u001b[0m \u001b[0mx\u001b[0m \u001b[0;32min\u001b[0m \u001b[0mcollection\u001b[0m \u001b[0;32mif\u001b[0m \u001b[0mx\u001b[0m\u001b[0;34m!=\u001b[0m\u001b[0my\u001b[0m \u001b[0;32mand\u001b[0m \u001b[0my\u001b[0m\u001b[0;34m>\u001b[0m\u001b[0mx\u001b[0m\u001b[0;34m]\u001b[0m\u001b[0;34m\u001b[0m\u001b[0m\n\u001b[1;32m      3\u001b[0m     schedule = [list(x) for x in itertools.product(unique_pairs, repeat=len(collection)//2)\n\u001b[0;32m----> 4\u001b[0;31m                  if not any([any(i in x[0] for i in x[1]) for k in range(0)][0])]\n\u001b[0m\u001b[1;32m      5\u001b[0m \u001b[0;34m\u001b[0m\u001b[0m\n\u001b[1;32m      6\u001b[0m     \u001b[0;32mreturn\u001b[0m \u001b[0munique_pairs\u001b[0m\u001b[0;34m,\u001b[0m \u001b[0mschedule\u001b[0m\u001b[0;34m\u001b[0m\u001b[0m\n",
      "\u001b[0;31mIndexError\u001b[0m: list index out of range"
     ]
    }
   ],
   "source": [
    "unique_pairs, schedule = make_pairs(collection)"
   ]
  },
  {
   "cell_type": "code",
   "execution_count": 557,
   "metadata": {},
   "outputs": [
    {
     "data": {
      "text/plain": [
       "[['A', 'B'], ['A', 'C'], ['B', 'C'], ['A', 'D'], ['B', 'D'], ['C', 'D']]"
      ]
     },
     "execution_count": 557,
     "metadata": {},
     "output_type": "execute_result"
    }
   ],
   "source": [
    "unique_pairs"
   ]
  },
  {
   "cell_type": "code",
   "execution_count": 558,
   "metadata": {},
   "outputs": [
    {
     "data": {
      "text/plain": [
       "[[['A', 'B'], ['A', 'B']],\n",
       " [['A', 'B'], ['A', 'C']],\n",
       " [['A', 'B'], ['B', 'C']],\n",
       " [['A', 'B'], ['A', 'D']],\n",
       " [['A', 'B'], ['B', 'D']],\n",
       " [['A', 'B'], ['C', 'D']],\n",
       " [['A', 'C'], ['A', 'B']],\n",
       " [['A', 'C'], ['A', 'C']],\n",
       " [['A', 'C'], ['B', 'C']],\n",
       " [['A', 'C'], ['A', 'D']],\n",
       " [['A', 'C'], ['B', 'D']],\n",
       " [['A', 'C'], ['C', 'D']],\n",
       " [['B', 'C'], ['A', 'B']],\n",
       " [['B', 'C'], ['A', 'C']],\n",
       " [['B', 'C'], ['B', 'C']],\n",
       " [['B', 'C'], ['A', 'D']],\n",
       " [['B', 'C'], ['B', 'D']],\n",
       " [['B', 'C'], ['C', 'D']],\n",
       " [['A', 'D'], ['A', 'B']],\n",
       " [['A', 'D'], ['A', 'C']],\n",
       " [['A', 'D'], ['B', 'C']],\n",
       " [['A', 'D'], ['A', 'D']],\n",
       " [['A', 'D'], ['B', 'D']],\n",
       " [['A', 'D'], ['C', 'D']],\n",
       " [['B', 'D'], ['A', 'B']],\n",
       " [['B', 'D'], ['A', 'C']],\n",
       " [['B', 'D'], ['B', 'C']],\n",
       " [['B', 'D'], ['A', 'D']],\n",
       " [['B', 'D'], ['B', 'D']],\n",
       " [['B', 'D'], ['C', 'D']],\n",
       " [['C', 'D'], ['A', 'B']],\n",
       " [['C', 'D'], ['A', 'C']],\n",
       " [['C', 'D'], ['B', 'C']],\n",
       " [['C', 'D'], ['A', 'D']],\n",
       " [['C', 'D'], ['B', 'D']],\n",
       " [['C', 'D'], ['C', 'D']]]"
      ]
     },
     "execution_count": 558,
     "metadata": {},
     "output_type": "execute_result"
    }
   ],
   "source": [
    "schedule"
   ]
  },
  {
   "cell_type": "code",
   "execution_count": 322,
   "metadata": {},
   "outputs": [],
   "source": [
    "# and any(x[k+1]>x[k] for k in [0])"
   ]
  },
  {
   "cell_type": "code",
   "execution_count": 323,
   "metadata": {},
   "outputs": [
    {
     "data": {
      "text/plain": [
       "[['A', 'B'], ['A', 'C'], ['B', 'C'], ['A', 'D'], ['B', 'D'], ['C', 'D']]"
      ]
     },
     "execution_count": 323,
     "metadata": {},
     "output_type": "execute_result"
    }
   ],
   "source": [
    "unique_pairs"
   ]
  },
  {
   "cell_type": "code",
   "execution_count": 327,
   "metadata": {},
   "outputs": [
    {
     "name": "stdout",
     "output_type": "stream",
     "text": [
      "A ['A', 'B']\n",
      "A ['A', 'C']\n",
      "A ['A', 'D']\n",
      "B ['A', 'B']\n",
      "B ['B', 'C']\n",
      "B ['B', 'D']\n",
      "C ['A', 'C']\n",
      "C ['B', 'C']\n",
      "C ['C', 'D']\n",
      "D ['A', 'D']\n",
      "D ['B', 'D']\n",
      "D ['C', 'D']\n"
     ]
    }
   ],
   "source": [
    "unique_pairs = [[x, y] for y in collection for x in collection if x!=y and y>x]\n",
    "collection = ['A','B','C','D']\n",
    "\n",
    "for key in collection:\n",
    "    for pair in unique_pairs:\n",
    "        if key in pair:\n",
    "            print(key, pair)"
   ]
  },
  {
   "cell_type": "code",
   "execution_count": null,
   "metadata": {},
   "outputs": [],
   "source": []
  }
 ],
 "metadata": {
  "kernelspec": {
   "display_name": "Python 3",
   "language": "python",
   "name": "python3"
  },
  "language_info": {
   "codemirror_mode": {
    "name": "ipython",
    "version": 3
   },
   "file_extension": ".py",
   "mimetype": "text/x-python",
   "name": "python",
   "nbconvert_exporter": "python",
   "pygments_lexer": "ipython3",
   "version": "3.6.3"
  }
 },
 "nbformat": 4,
 "nbformat_minor": 2
}
